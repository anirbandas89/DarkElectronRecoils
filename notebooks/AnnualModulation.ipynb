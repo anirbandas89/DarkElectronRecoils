{
 "cells": [
  {
   "cell_type": "markdown",
   "metadata": {},
   "source": [
    "# Annual modulation of the DM-electron scattering rate in Xenon\n",
    "\n",
    "We pre-tabulate the values of $g(v_{\\rm min},t)$ in the file `erec/Tabulate_gmin.py` so that we don't need to worry about that. Then here we just calculate the rates for each day in those tables."
   ]
  },
  {
   "cell_type": "code",
   "execution_count": 25,
   "metadata": {},
   "outputs": [],
   "source": [
    "import sys\n",
    "sys.path.append('../erec')\n",
    "from numpy import *\n",
    "import matplotlib.pyplot as plt\n",
    "from LabFuncs import *\n",
    "from Params import *\n",
    "from DMFuncs import *\n",
    "from PlotFuncs import *\n",
    "from HaloFuncs import *\n",
    "from Params import *\n",
    "from AtomicFuncs import *\n",
    "\n",
    "dat1 = loadtxt('../data/gvmin/gvmin_Halo.txt')\n",
    "nt = shape(dat1)[0]-1\n",
    "vmin = dat1[0,:]\n",
    "nv = size(vmin)\n",
    "gmin_Halo = dat1[1:,:]\n",
    "\n",
    "dat1 = loadtxt('../data/gvmin/gvmin_Saus.txt')\n",
    "gmin_Saus = dat1[1:,:]\n",
    "\n",
    "dat1 = loadtxt('../data/gvmin/gvmin_S1.txt')\n",
    "gmin_S1 = dat1[1:,:]\n",
    "\n",
    "dat1 = loadtxt('../data/gvmin/gvmin_S2.txt')\n",
    "gmin_S2 = dat1[1:,:]\n",
    "\n",
    "days = linspace(0.0,365-365/(1.0*nt),nt)"
   ]
  },
  {
   "cell_type": "code",
   "execution_count": 26,
   "metadata": {},
   "outputs": [
    {
     "data": {
      "text/plain": [
       "<matplotlib.image.AxesImage at 0x1a1e214978>"
      ]
     },
     "execution_count": 26,
     "metadata": {},
     "output_type": "execute_result"
    },
    {
     "data": {
      "image/png": "[encoded data removed]",
      "text/plain": [
       "<Figure size 432x288 with 1 Axes>"
      ]
     },
     "metadata": {
      "needs_background": "light"
     },
     "output_type": "display_data"
    }
   ],
   "source": [
    "plt.imshow(vstack((gmin_Halo,gmin_Saus,gmin_S1,gmin_S2)),extent=(vmin[0],vmin[-1],0,400))"
   ]
  },
  {
   "cell_type": "code",
   "execution_count": 27,
   "metadata": {},
   "outputs": [
    {
     "name": "stdout",
     "output_type": "stream",
     "text": [
      "0 of 100\n",
      "1 of 100\n",
      "2 of 100\n",
      "3 of 100\n",
      "4 of 100\n",
      "5 of 100\n",
      "6 of 100\n",
      "7 of 100\n",
      "8 of 100\n",
      "9 of 100\n",
      "10 of 100\n",
      "11 of 100\n",
      "12 of 100\n",
      "13 of 100\n",
      "14 of 100\n",
      "15 of 100\n",
      "16 of 100\n",
      "17 of 100\n",
      "18 of 100\n",
      "19 of 100\n",
      "20 of 100\n",
      "21 of 100\n",
      "22 of 100\n",
      "23 of 100\n",
      "24 of 100\n",
      "25 of 100\n",
      "26 of 100\n",
      "27 of 100\n",
      "28 of 100\n",
      "29 of 100\n",
      "30 of 100\n",
      "31 of 100\n",
      "32 of 100\n",
      "33 of 100\n",
      "34 of 100\n",
      "35 of 100\n",
      "36 of 100\n",
      "37 of 100\n",
      "38 of 100\n",
      "39 of 100\n",
      "40 of 100\n",
      "41 of 100\n",
      "42 of 100\n",
      "43 of 100\n",
      "44 of 100\n",
      "45 of 100\n",
      "46 of 100\n",
      "47 of 100\n",
      "48 of 100\n",
      "49 of 100\n",
      "50 of 100\n",
      "51 of 100\n",
      "52 of 100\n",
      "53 of 100\n",
      "54 of 100\n",
      "55 of 100\n",
      "56 of 100\n",
      "57 of 100\n",
      "58 of 100\n",
      "59 of 100\n",
      "60 of 100\n",
      "61 of 100\n",
      "62 of 100\n",
      "63 of 100\n",
      "64 of 100\n",
      "65 of 100\n",
      "66 of 100\n",
      "67 of 100\n",
      "68 of 100\n",
      "69 of 100\n",
      "70 of 100\n",
      "71 of 100\n",
      "72 of 100\n",
      "73 of 100\n",
      "74 of 100\n",
      "75 of 100\n",
      "76 of 100\n",
      "77 of 100\n",
      "78 of 100\n",
      "79 of 100\n",
      "80 of 100\n",
      "81 of 100\n",
      "82 of 100\n",
      "83 of 100\n",
      "84 of 100\n",
      "85 of 100\n",
      "86 of 100\n",
      "87 of 100\n",
      "88 of 100\n",
      "89 of 100\n",
      "90 of 100\n",
      "91 of 100\n",
      "92 of 100\n",
      "93 of 100\n",
      "94 of 100\n",
      "95 of 100\n",
      "96 of 100\n",
      "97 of 100\n",
      "98 of 100\n",
      "99 of 100\n"
     ]
    }
   ],
   "source": [
    "gmin_SHMpp = (1-0.2)*gmin_Halo + 0.2*gmin_Saus\n",
    "\n",
    "np = 20 # accuracy of p integral\n",
    "nq = 20 # accuracy of q integral\n",
    "ne = 100 # number of energies\n",
    "\n",
    "sigma_e = 1.0e-37 # cm^2\n",
    "E_r_vals = logspace(-1.0,3.0,ne)/1000.0 # keV\n",
    "\n",
    "nm = 2\n",
    "m = [10.0,1000.0]\n",
    "\n",
    "R_H_SHMpp = zeros(shape=(nt,ne,nm))\n",
    "R_L_SHMpp = zeros(shape=(nt,ne,nm))\n",
    "R_H_S1 = zeros(shape=(nt,ne,nm))\n",
    "R_L_S1 = zeros(shape=(nt,ne,nm))\n",
    "R_H_S2 = zeros(shape=(nt,ne,nm))\n",
    "R_L_S2 = zeros(shape=(nt,ne,nm))\n",
    "for i in range(0,nt):\n",
    "    for mi in range(0,nm):\n",
    "        R_H_SHMpp[i,:,mi] = ElectronRecoilRate(Xe131,E_r_vals,m[mi],sigma_e,HeavyMediator,vmin,gmin_SHMpp[i,:],np=np,nq=nq)\n",
    "        R_L_SHMpp[i,:,mi] = ElectronRecoilRate(Xe131,E_r_vals,m[mi],sigma_e,LightMediator,vmin,gmin_SHMpp[i,:],np=np,nq=nq)\n",
    "       \n",
    "        R_H_S1[i,:,mi] = ElectronRecoilRate(Xe131,E_r_vals,m[mi],sigma_e,HeavyMediator,vmin,gmin_S1[i,:],np=np,nq=nq)\n",
    "        R_L_S1[i,:,mi] = ElectronRecoilRate(Xe131,E_r_vals,m[mi],sigma_e,LightMediator,vmin,gmin_S1[i,:],np=np,nq=nq)\n",
    "        \n",
    "        R_H_S2[i,:,mi] = ElectronRecoilRate(Xe131,E_r_vals,m[mi],sigma_e,HeavyMediator,vmin,gmin_S2[i,:],np=np,nq=nq)\n",
    "        R_L_S2[i,:,mi] = ElectronRecoilRate(Xe131,E_r_vals,m[mi],sigma_e,LightMediator,vmin,gmin_S2[i,:],np=np,nq=nq)\n",
    "    print(i,'of',nt)"
   ]
  },
  {
   "cell_type": "code",
   "execution_count": 24,
   "metadata": {},
   "outputs": [
    {
     "data": {
      "text/plain": [
       "101"
      ]
     },
     "execution_count": 24,
     "metadata": {},
     "output_type": "execute_result"
    }
   ],
   "source": [
    "ntplt.imshow(vstack((gmin_Halo,gmin_Saus,gmin_S1,gmin_S2)),extent=(vmin[0],vmin[-1],0,400))"
   ]
  },
  {
   "cell_type": "code",
   "execution_count": 32,
   "metadata": {},
   "outputs": [
    {
     "data": {
      "text/plain": [
       "<matplotlib.image.AxesImage at 0x1a2218c550>"
      ]
     },
     "execution_count": 32,
     "metadata": {},
     "output_type": "execute_result"
    },
    {
     "data": {
      "image/png": "[encoded data removed]",
      "text/plain": [
       "<Figure size 432x288 with 1 Axes>"
      ]
     },
     "metadata": {
      "needs_background": "light"
     },
     "output_type": "display_data"
    }
   ],
   "source": [
    "\n",
    "\n",
    "plt.imshow(R_H_S1[:,:,1])\n",
    "\n",
    "\n",
    "\n",
    "\n",
    "\n"
   ]
  },
  {
   "cell_type": "code",
   "execution_count": null,
   "metadata": {},
   "outputs": [],
   "source": []
  }
 ],
 "metadata": {
  "kernelspec": {
   "display_name": "Python 3",
   "language": "python",
   "name": "python3"
  },
  "language_info": {
   "codemirror_mode": {
    "name": "ipython",
    "version": 3
   },
   "file_extension": ".py",
   "mimetype": "text/x-python",
   "name": "python",
   "nbconvert_exporter": "python",
   "pygments_lexer": "ipython3",
   "version": "3.7.3"
  }
 },
 "nbformat": 4,
 "nbformat_minor": 2
}
